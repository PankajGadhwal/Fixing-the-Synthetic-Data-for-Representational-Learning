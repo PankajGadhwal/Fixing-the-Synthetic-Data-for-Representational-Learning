{
 "cells": [
  {
   "cell_type": "code",
   "execution_count": 1,
   "metadata": {
    "_cell_guid": "b1076dfc-b9ad-4769-8c92-a6c4dae69d19",
    "_uuid": "8f2839f25d086af736a60e9eeb907d3b93b6e0e5",
    "execution": {
     "iopub.execute_input": "2025-04-19T15:05:31.108991Z",
     "iopub.status.busy": "2025-04-19T15:05:31.108747Z",
     "iopub.status.idle": "2025-04-19T15:05:33.959849Z",
     "shell.execute_reply": "2025-04-19T15:05:33.959286Z",
     "shell.execute_reply.started": "2025-04-19T15:05:31.108967Z"
    },
    "trusted": true
   },
   "outputs": [],
   "source": [
    "# This Python 3 environment comes with many helpful analytics libraries installed\n",
    "# It is defined by the kaggle/python Docker image: https://github.com/kaggle/docker-python\n",
    "# For example, here's several helpful packages to load\n",
    "\n",
    "import numpy as np # linear algebra\n",
    "import pandas as pd # data processing, CSV file I/O (e.g. pd.read_csv)\n",
    "\n",
    "# Input data files are available in the read-only \"../input/\" directory\n",
    "# For example, running this (by clicking run or pressing Shift+Enter) will list all files under the input directory\n",
    "\n",
    "import os\n",
    "for dirname, _, filenames in os.walk('/kaggle/input'):\n",
    "    for filename in filenames:\n",
    "        print(os.path.join(dirname, filename))\n",
    "\n",
    "# You can write up to 20GB to the current directory (/kaggle/working/) that gets preserved as output when you create a version using \"Save & Run All\" \n",
    "# You may also write temporary files to /kaggle/temp/, but they won't be saved outside of the current session"
   ]
  },
  {
   "cell_type": "code",
   "execution_count": null,
   "metadata": {
    "collapsed": true,
    "execution": {
     "iopub.execute_input": "2025-04-19T15:06:05.109035Z",
     "iopub.status.busy": "2025-04-19T15:06:05.108399Z",
     "iopub.status.idle": "2025-04-19T15:07:35.588872Z",
     "shell.execute_reply": "2025-04-19T15:07:35.588125Z",
     "shell.execute_reply.started": "2025-04-19T15:06:05.109007Z"
    },
    "jupyter": {
     "outputs_hidden": true
    },
    "trusted": true
   },
   "outputs": [],
   "source": [
    "!pip install diffusers transformers accelerate safetensors\n"
   ]
  },
  {
   "cell_type": "code",
   "execution_count": null,
   "metadata": {
    "execution": {
     "iopub.execute_input": "2025-04-19T16:49:04.588639Z",
     "iopub.status.busy": "2025-04-19T16:49:04.588139Z",
     "iopub.status.idle": "2025-04-19T16:49:18.375009Z",
     "shell.execute_reply": "2025-04-19T16:49:18.374175Z",
     "shell.execute_reply.started": "2025-04-19T16:49:04.588610Z"
    },
    "trusted": true
   },
   "outputs": [],
   "source": [
    "from PIL import Image\n",
    "from diffusers import StableDiffusionImg2ImgPipeline\n",
    "import torch\n",
    "\n",
    "device = \"cuda\"\n",
    "model_id_or_path = \"runwayml/stable-diffusion-v1-5\"  # <- Correct Hugging Face ID\n",
    "\n",
    "pipe = StableDiffusionImg2ImgPipeline.from_pretrained(\n",
    "    model_id_or_path,\n",
    "    torch_dtype=torch.float16\n",
    ").to(device)\n",
    "\n",
    "# Load image from Kaggle directory (replace with actual file name)\n",
    "image_path = \"/kaggle/input/vase-filled-with-white-flowers-sitting-on-a-table/a vase filled with white flowers sitting on a table.jpg\"\n",
    "init_image = Image.open(image_path).convert(\"RGB\")\n",
    "init_image = init_image.resize((768, 512))\n",
    "\n",
    "# Prompt and generate\n",
    "prompt = \"a vase with yellow flowers placed on a table\"\n",
    "images = pipe(prompt=prompt, image=init_image, strength=0.75, guidance_scale=7.5).images\n",
    "\n",
    "# Save output\n",
    "images[0].save(\"a vase with yellow flowers placed on a table.png\")\n"
   ]
  }
 ],
 "metadata": {
  "kaggle": {
   "accelerator": "nvidiaTeslaT4",
   "dataSources": [
    {
     "datasetId": 7191953,
     "sourceId": 11475374,
     "sourceType": "datasetVersion"
    },
    {
     "datasetId": 7192108,
     "sourceId": 11475599,
     "sourceType": "datasetVersion"
    },
    {
     "datasetId": 7192297,
     "sourceId": 11475882,
     "sourceType": "datasetVersion"
    },
    {
     "datasetId": 7192529,
     "sourceId": 11476201,
     "sourceType": "datasetVersion"
    }
   ],
   "dockerImageVersionId": 31011,
   "isGpuEnabled": true,
   "isInternetEnabled": true,
   "language": "python",
   "sourceType": "notebook"
  },
  "kernelspec": {
   "display_name": "Python 3",
   "language": "python",
   "name": "python3"
  },
  "language_info": {
   "codemirror_mode": {
    "name": "ipython",
    "version": 3
   },
   "file_extension": ".py",
   "mimetype": "text/x-python",
   "name": "python",
   "nbconvert_exporter": "python",
   "pygments_lexer": "ipython3",
   "version": "3.11.11"
  }
 },
 "nbformat": 4,
 "nbformat_minor": 4
}
