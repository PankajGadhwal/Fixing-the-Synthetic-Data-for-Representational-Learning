{
 "cells": [
  {
   "cell_type": "code",
   "execution_count": null,
   "metadata": {
    "_cell_guid": "b1076dfc-b9ad-4769-8c92-a6c4dae69d19",
    "_uuid": "8f2839f25d086af736a60e9eeb907d3b93b6e0e5",
    "collapsed": true,
    "execution": {
     "iopub.execute_input": "2025-04-19T23:38:51.803943Z",
     "iopub.status.busy": "2025-04-19T23:38:51.803704Z",
     "iopub.status.idle": "2025-04-19T23:38:53.487375Z",
     "shell.execute_reply": "2025-04-19T23:38:53.486534Z",
     "shell.execute_reply.started": "2025-04-19T23:38:51.803915Z"
    },
    "jupyter": {
     "outputs_hidden": true
    },
    "trusted": true
   },
   "outputs": [],
   "source": [
    "# This Python 3 environment comes with many helpful analytics libraries installed\n",
    "# It is defined by the kaggle/python Docker image: https://github.com/kaggle/docker-python\n",
    "# For example, here's several helpful packages to load\n",
    "\n",
    "import numpy as np # linear algebra\n",
    "import pandas as pd # data processing, CSV file I/O (e.g. pd.read_csv)\n",
    "\n",
    "# Input data files are available in the read-only \"../input/\" directory\n",
    "# For example, running this (by clicking run or pressing Shift+Enter) will list all files under the input directory\n",
    "\n",
    "import os\n",
    "for dirname, _, filenames in os.walk('/kaggle/input'):\n",
    "    for filename in filenames:\n",
    "        print(os.path.join(dirname, filename))\n",
    "\n",
    "# You can write up to 20GB to the current directory (/kaggle/working/) that gets preserved as output when you create a version using \"Save & Run All\" \n",
    "# You can also write temporary files to /kaggle/temp/, but they won't be saved outside of the current session"
   ]
  },
  {
   "cell_type": "code",
   "execution_count": null,
   "metadata": {
    "collapsed": true,
    "execution": {
     "iopub.execute_input": "2025-04-19T23:38:53.489071Z",
     "iopub.status.busy": "2025-04-19T23:38:53.488785Z",
     "iopub.status.idle": "2025-04-19T23:39:27.936194Z",
     "shell.execute_reply": "2025-04-19T23:39:27.935336Z",
     "shell.execute_reply.started": "2025-04-19T23:38:53.489053Z"
    },
    "jupyter": {
     "outputs_hidden": true
    },
    "trusted": true
   },
   "outputs": [],
   "source": [
    "import os\n",
    "import json\n",
    "from PIL import Image\n",
    "from tqdm import tqdm\n",
    "\n",
    "import torch\n",
    "from transformers import BlipProcessor, BlipForConditionalGeneration\n",
    "\n",
    "# Load BLIP model and processor\n",
    "processor = BlipProcessor.from_pretrained(\"Salesforce/blip-image-captioning-base\")\n",
    "model = BlipForConditionalGeneration.from_pretrained(\"Salesforce/blip-image-captioning-base\").to(\"cuda\" if torch.cuda.is_available() else \"cpu\")\n",
    "\n",
    "# Define the root directory containing the images directly\n",
    "root_dir = \"/kaggle/input/sfvwefwe/New folder (2)\"  # <-- change this if needed\n",
    "\n",
    "# Dictionary to store captions\n",
    "captions_dict = {}\n",
    "\n",
    "# Loop through each image file in the root directory\n",
    "for img_name in tqdm(os.listdir(root_dir)):\n",
    "    img_path = os.path.join(root_dir, img_name)\n",
    "\n",
    "    if not os.path.isfile(img_path):\n",
    "        continue  # skip if it's not a file\n",
    "\n",
    "    try:\n",
    "        image = Image.open(img_path).convert('RGB')\n",
    "        inputs = processor(images=image, return_tensors=\"pt\").to(model.device)\n",
    "\n",
    "        out = model.generate(**inputs)\n",
    "        caption = processor.decode(out[0], skip_special_tokens=True)\n",
    "\n",
    "        # Save in the desired format\n",
    "        captions_dict[img_path] = {\n",
    "            \"src_prompt\": caption,\n",
    "            \"tgt_prompt\": [caption]\n",
    "        }\n",
    "    except Exception as e:\n",
    "        print(f\"Failed to process {img_path}: {e}\")\n",
    "\n",
    "# Save the dictionary to a JSON file\n",
    "output_path = \"/kaggle/working/dataset.json\"\n",
    "with open(output_path, \"w\") as f:\n",
    "    json.dump(captions_dict, f, indent=2)"
   ]
  }
 ],
 "metadata": {
  "kaggle": {
   "accelerator": "gpu",
   "dataSources": [
    {
     "datasetId": 7111632,
     "sourceId": 11362389,
     "sourceType": "datasetVersion"
    },
    {
     "datasetId": 7130812,
     "sourceId": 11387415,
     "sourceType": "datasetVersion"
    },
    {
     "datasetId": 7190558,
     "sourceId": 11473457,
     "sourceType": "datasetVersion"
    },
    {
     "datasetId": 7193932,
     "sourceId": 11478093,
     "sourceType": "datasetVersion"
    },
    {
     "datasetId": 7194283,
     "sourceId": 11478617,
     "sourceType": "datasetVersion"
    },
    {
     "datasetId": 7194872,
     "sourceId": 11479511,
     "sourceType": "datasetVersion"
    }
   ],
   "dockerImageVersionId": 31011,
   "isGpuEnabled": true,
   "isInternetEnabled": true,
   "language": "python",
   "sourceType": "notebook"
  },
  "kernelspec": {
   "display_name": "Python 3",
   "language": "python",
   "name": "python3"
  },
  "language_info": {
   "codemirror_mode": {
    "name": "ipython",
    "version": 3
   },
   "file_extension": ".py",
   "mimetype": "text/x-python",
   "name": "python",
   "nbconvert_exporter": "python",
   "pygments_lexer": "ipython3",
   "version": "3.11.11"
  }
 },
 "nbformat": 4,
 "nbformat_minor": 4
}
